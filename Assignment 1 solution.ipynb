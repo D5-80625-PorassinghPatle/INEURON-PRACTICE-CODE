{
 "cells": [
  {
   "cell_type": "markdown",
   "id": "3d5723a3",
   "metadata": {},
   "source": [
    "1. In the below elements which of them are values or an expression? eg:- values can be\n",
    "integer or string and expressions will be mathematical operators.\n"
   ]
  },
  {
   "cell_type": "markdown",
   "id": "369c673f",
   "metadata": {},
   "source": [
    ":[*,-,/,+] are expression\n",
    ":[-87.8,\"hello\",6] are Values\n"
   ]
  },
  {
   "cell_type": "markdown",
   "id": "61f042bd",
   "metadata": {},
   "source": [
    "2. What is the difference between string and variable?"
   ]
  },
  {
   "cell_type": "markdown",
   "id": "06005af3",
   "metadata": {},
   "source": [
    "\n",
    ": 1.string is data type where as variable are some symbols used to store data \n",
    "2.In variable strings can be stored \n",
    "example :- A=\"poras\"\n",
    "in above example a is variable and store value is \"poras\" which is string\n",
    "Variable values can be overwritten easily futher in code "
   ]
  },
  {
   "cell_type": "markdown",
   "id": "a593bdb7",
   "metadata": {},
   "source": [
    "3. Describe three different data types.\n",
    "\n"
   ]
  },
  {
   "cell_type": "markdown",
   "id": "fa80c31f",
   "metadata": {},
   "source": [
    "Different data types are as follows \n",
    "1.string\n",
    "2.float\n",
    "3.int\n",
    "4.boolean\n",
    "5.complex \n",
    "6.list\n",
    "7.range\n",
    "8.tuples"
   ]
  },
  {
   "cell_type": "markdown",
   "id": "d95bded4",
   "metadata": {},
   "source": [
    "4.What is an expression made up of? What do all expressions do?"
   ]
  },
  {
   "cell_type": "markdown",
   "id": "5093833e",
   "metadata": {},
   "source": [
    "expression is made up of operator and operand.\n",
    "example: 1 + 2 \n",
    "in above expression (1,2) are operand while (+) is an operator \n",
    "\n",
    "Expression gives some output which can be of any data type ."
   ]
  },
  {
   "cell_type": "markdown",
   "id": "cd616c4f",
   "metadata": {},
   "source": [
    "5. This assignment statements, like spam = 10. What is the difference between an\n",
    "expression and a statement?"
   ]
  },
  {
   "cell_type": "markdown",
   "id": "8fd38c5d",
   "metadata": {},
   "source": [
    "In an expression output value depends on operator and operand. there is some operation to be performed resulting in some solution or output\n",
    "\n",
    "\n",
    "In statement Like [spam = 10] this is declared.just like print.\n",
    "\n"
   ]
  },
  {
   "cell_type": "markdown",
   "id": "8c102b8f",
   "metadata": {},
   "source": [
    "6. After running the following code, what does the variable bacon contain?\n",
    "bacon = 22\n",
    "bacon + 1"
   ]
  },
  {
   "cell_type": "code",
   "execution_count": 3,
   "id": "95e96a43",
   "metadata": {},
   "outputs": [
    {
     "data": {
      "text/plain": [
       "23"
      ]
     },
     "execution_count": 3,
     "metadata": {},
     "output_type": "execute_result"
    }
   ],
   "source": [
    "bacon= 22\n",
    "bacon +1 "
   ]
  },
  {
   "cell_type": "markdown",
   "id": "b1196ef6",
   "metadata": {},
   "source": [
    "7.What should the values of the following two terms be?\n",
    "&#39;spam&#39; + &#39;spamspam&#39;\n",
    "&#39;spam&#39; * 3"
   ]
  },
  {
   "cell_type": "code",
   "execution_count": 5,
   "id": "48ba4482",
   "metadata": {},
   "outputs": [
    {
     "data": {
      "text/plain": [
       "'spamspamspam'"
      ]
     },
     "execution_count": 5,
     "metadata": {},
     "output_type": "execute_result"
    }
   ],
   "source": [
    "'spam'+'spamspam'"
   ]
  },
  {
   "cell_type": "code",
   "execution_count": 6,
   "id": "9b72c4a7",
   "metadata": {},
   "outputs": [
    {
     "data": {
      "text/plain": [
       "'spamspamspam'"
      ]
     },
     "execution_count": 6,
     "metadata": {},
     "output_type": "execute_result"
    }
   ],
   "source": [
    "'spam'*3"
   ]
  },
  {
   "cell_type": "markdown",
   "id": "0a250307",
   "metadata": {},
   "source": [
    "same "
   ]
  },
  {
   "cell_type": "markdown",
   "id": "364cadd0",
   "metadata": {},
   "source": [
    "8.Why is eggs a valid variable name while 100 is invalid?"
   ]
  },
  {
   "cell_type": "markdown",
   "id": "37dd9b99",
   "metadata": {},
   "source": [
    "because 100 is literal value . It is quantified Value having some definate purpose in universe.\n",
    "eggs can be used as variable to even itslef \n",
    "example : eggs=\"eggs \"\n",
    "100 = 200 - is wrong (universally worng as creator must have stated the 100 as its own value as existing)"
   ]
  },
  {
   "cell_type": "markdown",
   "id": "d9cfdc5d",
   "metadata": {},
   "source": [
    "9. What three functions can be used to get the integer, floating-point number, or string\n",
    "version of a value?\n"
   ]
  },
  {
   "cell_type": "markdown",
   "id": "af01ce9d",
   "metadata": {},
   "source": [
    ":int(),float(),str()"
   ]
  },
  {
   "cell_type": "markdown",
   "id": "8a8f192d",
   "metadata": {},
   "source": [
    "10. Why does this expression cause an error? How can you fix it?\n",
    "&#39;I have eaten &#39; + 99 + &#39; burritos.&#39;"
   ]
  },
  {
   "cell_type": "markdown",
   "id": "c99ff930",
   "metadata": {},
   "source": [
    "because 99 is integer data type to get this error fix we have to put 99 into inverted commas -('99')\n",
    "then this concatenate is possible"
   ]
  }
 ],
 "metadata": {
  "kernelspec": {
   "display_name": "Python 3",
   "language": "python",
   "name": "python3"
  },
  "language_info": {
   "codemirror_mode": {
    "name": "ipython",
    "version": 3
   },
   "file_extension": ".py",
   "mimetype": "text/x-python",
   "name": "python",
   "nbconvert_exporter": "python",
   "pygments_lexer": "ipython3",
   "version": "3.8.8"
  }
 },
 "nbformat": 4,
 "nbformat_minor": 5
}
