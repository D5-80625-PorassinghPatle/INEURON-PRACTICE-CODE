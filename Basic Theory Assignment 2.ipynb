{
 "cells": [
  {
   "cell_type": "markdown",
   "id": "bcc36d52",
   "metadata": {},
   "source": [
    "# PYTHON BASIC ASSIGNMENT 2 "
   ]
  },
  {
   "cell_type": "code",
   "execution_count": 2,
   "id": "b35c1c89",
   "metadata": {},
   "outputs": [],
   "source": [
    "##1.What are the two values of the Boolean data type? How do you write them?"
   ]
  },
  {
   "cell_type": "code",
   "execution_count": 3,
   "id": "69ae5172",
   "metadata": {},
   "outputs": [],
   "source": [
    "# Ans = \"True\" & \"Faslse\" are two values of boolean Data Types . "
   ]
  },
  {
   "cell_type": "code",
   "execution_count": 4,
   "id": "1f1beb39",
   "metadata": {},
   "outputs": [],
   "source": [
    "## 2. What are the three different types of Boolean operators?"
   ]
  },
  {
   "cell_type": "code",
   "execution_count": 5,
   "id": "ce28575a",
   "metadata": {},
   "outputs": [],
   "source": [
    "# Ans = AND , OR , NOT "
   ]
  },
  {
   "cell_type": "code",
   "execution_count": 7,
   "id": "83e84d49",
   "metadata": {},
   "outputs": [],
   "source": [
    "## 3. Make a list of each Boolean operator&#39;s truth tables (i.e. every possible combination of Boolean values for the operator  what it evaluate )."
   ]
  },
  {
   "cell_type": "code",
   "execution_count": 11,
   "id": "c64ab0cf",
   "metadata": {},
   "outputs": [],
   "source": [
    "\n",
    "# Ans = 1. OR OPERATOR\n",
    "\n",
    "#A       B      A OR B \n",
    "#True   True   TRUE \n",
    "#True   False  TRUE \n",
    "#False  True   TRUE\n",
    "#False  False  False\n",
    "\n",
    "# 2. AND OPERATOR\n",
    "\n",
    "#A       B      A & B \n",
    "#True   True   TRUE \n",
    "#True   False  FALSE \n",
    "#False  True   FALSE\n",
    "#False  False  FALSE\n",
    "\n",
    "# 3. NOT OPERATOR\n",
    "\n",
    "# C      NOTC\n",
    "#FALSE   TRUE\n",
    "#TRUE    FALSE"
   ]
  },
  {
   "cell_type": "code",
   "execution_count": 14,
   "id": "243d2f1f",
   "metadata": {},
   "outputs": [],
   "source": [
    "## 4. 4. What are the values of the following expressions?\n"
   ]
  },
  {
   "cell_type": "code",
   "execution_count": 15,
   "id": "4e3897bc",
   "metadata": {},
   "outputs": [
    {
     "data": {
      "text/plain": [
       "False"
      ]
     },
     "execution_count": 15,
     "metadata": {},
     "output_type": "execute_result"
    }
   ],
   "source": [
    "(5>4) and (3 == 5)"
   ]
  },
  {
   "cell_type": "code",
   "execution_count": 16,
   "id": "5b1f4149",
   "metadata": {},
   "outputs": [
    {
     "data": {
      "text/plain": [
       "False"
      ]
     },
     "execution_count": 16,
     "metadata": {},
     "output_type": "execute_result"
    }
   ],
   "source": [
    "not (5>4)"
   ]
  },
  {
   "cell_type": "code",
   "execution_count": 17,
   "id": "b786afe1",
   "metadata": {},
   "outputs": [
    {
     "data": {
      "text/plain": [
       "True"
      ]
     },
     "execution_count": 17,
     "metadata": {},
     "output_type": "execute_result"
    }
   ],
   "source": [
    "(5 > 4) or (3 == 5)"
   ]
  },
  {
   "cell_type": "code",
   "execution_count": 18,
   "id": "da5c4af4",
   "metadata": {},
   "outputs": [
    {
     "data": {
      "text/plain": [
       "False"
      ]
     },
     "execution_count": 18,
     "metadata": {},
     "output_type": "execute_result"
    }
   ],
   "source": [
    "not ((5 > 4) or (3 == 5))"
   ]
  },
  {
   "cell_type": "code",
   "execution_count": 19,
   "id": "0524e034",
   "metadata": {},
   "outputs": [
    {
     "data": {
      "text/plain": [
       "False"
      ]
     },
     "execution_count": 19,
     "metadata": {},
     "output_type": "execute_result"
    }
   ],
   "source": [
    "\n",
    "(True and True) and (True == False)\n"
   ]
  },
  {
   "cell_type": "code",
   "execution_count": 20,
   "id": "d0aa92f1",
   "metadata": {},
   "outputs": [
    {
     "data": {
      "text/plain": [
       "True"
      ]
     },
     "execution_count": 20,
     "metadata": {},
     "output_type": "execute_result"
    }
   ],
   "source": [
    "(not False) or (not True)"
   ]
  },
  {
   "cell_type": "code",
   "execution_count": 21,
   "id": "9d55657c",
   "metadata": {},
   "outputs": [],
   "source": [
    "## 5. What are the six comparison operators?"
   ]
  },
  {
   "cell_type": "code",
   "execution_count": 22,
   "id": "a9e0700c",
   "metadata": {},
   "outputs": [],
   "source": [
    "## 1. >     greater than \n",
    "#  2. <     less than \n",
    "#  3. ==    Equal to \n",
    "#  4. >=    Greater than equal to \n",
    "#  5. <=    Less than equal to \n",
    "#  6. !=    Not equal to \n"
   ]
  },
  {
   "cell_type": "code",
   "execution_count": 23,
   "id": "dc9134dd",
   "metadata": {},
   "outputs": [],
   "source": [
    "## 6. 6. How do you tell the difference between the equal to and assignment operators?Describe a condition and when you would use one."
   ]
  },
  {
   "cell_type": "code",
   "execution_count": 24,
   "id": "26c1f21b",
   "metadata": {},
   "outputs": [],
   "source": [
    "## Ans =  There is visual difference in both the operator \n",
    "#   \" = \" --- This is an assignment operator with single eual to sign whereas, \n",
    "#   \" == \" ---- This is an Equal to Operator where double equal to sign are used .\n",
    "# Below cell show he usage in if statement to draw a condition "
   ]
  },
  {
   "cell_type": "code",
   "execution_count": 25,
   "id": "b40f500f",
   "metadata": {},
   "outputs": [
    {
     "name": "stdout",
     "output_type": "stream",
     "text": [
      "8\n",
      "8\n",
      " a and b are equal \n"
     ]
    }
   ],
   "source": [
    "# Example \n",
    "a = int (input())\n",
    "b = int (input())\n",
    "if b == a :\n",
    "    print (\" a and b are equal \")\n",
    "else :\n",
    "    print (\"a and b are different\")\n",
    "  "
   ]
  },
  {
   "cell_type": "code",
   "execution_count": 26,
   "id": "b17dd9cd",
   "metadata": {},
   "outputs": [],
   "source": [
    "#in above example we can see the use of assignment and Equal to operation , many other condition as per the situation we can use this operator - mainly this are useful in defining an situation "
   ]
  },
  {
   "cell_type": "code",
   "execution_count": null,
   "id": "b3defa7a",
   "metadata": {},
   "outputs": [],
   "source": [
    "## 7. Identify the three blocks in this code:"
   ]
  },
  {
   "cell_type": "code",
   "execution_count": 29,
   "id": "827c95d2",
   "metadata": {},
   "outputs": [
    {
     "name": "stdout",
     "output_type": "stream",
     "text": [
      "ham\n",
      "spam\n",
      "spam\n"
     ]
    }
   ],
   "source": [
    "spam = 0\n",
    "if spam == 10:\n",
    "    print(\"Eggs\") ##- Indentation required\n",
    "if spam > 5:\n",
    "    print(\"bacon\") ##- Indentation required\n",
    "else:\n",
    "    print(\"ham\") ##- Indentation required\n",
    "print(\"spam\")\n",
    "print(\"spam\")\n",
    "\n"
   ]
  },
  {
   "cell_type": "code",
   "execution_count": 30,
   "id": "b55eb456",
   "metadata": {},
   "outputs": [],
   "source": [
    "##  8. Write code that prints Hello if 1 is stored in spam, prints Howdy if 2 is stored in spam, and prints Greetings! if anything else is stored in spam."
   ]
  },
  {
   "cell_type": "code",
   "execution_count": 46,
   "id": "62e9bea9",
   "metadata": {},
   "outputs": [
    {
     "name": "stdout",
     "output_type": "stream",
     "text": [
      "Enter a number 1\n",
      "Hello\n"
     ]
    }
   ],
   "source": [
    "Spam = int(input(\"Enter a number \"))\n",
    "if Spam  == 1 :\n",
    "    print (\"Hello\")\n",
    "elif Spam == 2  :\n",
    "    print (\"Howdy\")\n",
    "else:\n",
    "    print (\"Greetings\")"
   ]
  },
  {
   "cell_type": "code",
   "execution_count": 47,
   "id": "1e4a4297",
   "metadata": {},
   "outputs": [],
   "source": [
    "## 9.If your programme is stuck in an endless loop, what keys you’ll press?\n"
   ]
  },
  {
   "cell_type": "code",
   "execution_count": 48,
   "id": "18a26b44",
   "metadata": {},
   "outputs": [],
   "source": [
    "## Ans - Stop or Restart Kernal "
   ]
  },
  {
   "cell_type": "code",
   "execution_count": 49,
   "id": "aaecae57",
   "metadata": {},
   "outputs": [],
   "source": [
    "##10. How can you tell the difference between break and continue?\n"
   ]
  },
  {
   "cell_type": "code",
   "execution_count": 50,
   "id": "e7fd935a",
   "metadata": {},
   "outputs": [],
   "source": [
    "## Ans -- Break is use at situation such as  particular condition is reached where the user dont need to go through other remaining values in loop\n",
    "## and just want to get out of the loop.\n",
    "### --- Continue is used at situation where particular statement is to be skiped and then still the remaining values of loop need to be checked .It does not jump out of loop \n"
   ]
  },
  {
   "cell_type": "code",
   "execution_count": 51,
   "id": "376e3590",
   "metadata": {},
   "outputs": [],
   "source": [
    "##11.In a for loop, what is the difference between range(10), range(0, 10), and range(0, 10, 1)?"
   ]
  },
  {
   "cell_type": "code",
   "execution_count": 55,
   "id": "45e706f7",
   "metadata": {},
   "outputs": [],
   "source": [
    "##Ans - There is no difference at all in all the three above range statement."
   ]
  },
  {
   "cell_type": "code",
   "execution_count": 56,
   "id": "af77df7e",
   "metadata": {},
   "outputs": [],
   "source": [
    "##12. Write a short program that prints the numbers 1 to 10 using a for loop. Then write an equivalent program that prints the numbers 1 to 10 using a while loop."
   ]
  },
  {
   "cell_type": "code",
   "execution_count": 59,
   "id": "b1bb8295",
   "metadata": {},
   "outputs": [
    {
     "name": "stdout",
     "output_type": "stream",
     "text": [
      "1\n",
      "2\n",
      "3\n",
      "4\n",
      "5\n",
      "6\n",
      "7\n",
      "8\n",
      "9\n",
      "10\n"
     ]
    }
   ],
   "source": [
    "for i in range (1,11):\n",
    "    print(i)"
   ]
  },
  {
   "cell_type": "code",
   "execution_count": 69,
   "id": "0a360126",
   "metadata": {},
   "outputs": [
    {
     "name": "stdout",
     "output_type": "stream",
     "text": [
      "1\n",
      "2\n",
      "3\n",
      "4\n",
      "5\n",
      "6\n",
      "7\n",
      "8\n",
      "9\n",
      "10\n"
     ]
    }
   ],
   "source": [
    "m = 11\n",
    "k = 1\n",
    "while k< m:\n",
    "    print (k)\n",
    "    k = k+1\n",
    "    \n",
    "    \n",
    "    "
   ]
  },
  {
   "cell_type": "code",
   "execution_count": 70,
   "id": "80f2ebb1",
   "metadata": {},
   "outputs": [],
   "source": [
    "##13 If you had a function named bacon() inside a module named spam, how would you call it after importing spam?"
   ]
  },
  {
   "cell_type": "code",
   "execution_count": 1,
   "id": "bcba55b2",
   "metadata": {},
   "outputs": [],
   "source": [
    "#This function can be called with spam.bacon()."
   ]
  },
  {
   "cell_type": "code",
   "execution_count": null,
   "id": "dc5d94e8",
   "metadata": {},
   "outputs": [],
   "source": []
  },
  {
   "cell_type": "code",
   "execution_count": null,
   "id": "bccc8bb8",
   "metadata": {},
   "outputs": [],
   "source": []
  },
  {
   "cell_type": "code",
   "execution_count": null,
   "id": "633aaad0",
   "metadata": {},
   "outputs": [],
   "source": []
  }
 ],
 "metadata": {
  "kernelspec": {
   "display_name": "Python 3 (ipykernel)",
   "language": "python",
   "name": "python3"
  },
  "language_info": {
   "codemirror_mode": {
    "name": "ipython",
    "version": 3
   },
   "file_extension": ".py",
   "mimetype": "text/x-python",
   "name": "python",
   "nbconvert_exporter": "python",
   "pygments_lexer": "ipython3",
   "version": "3.9.12"
  }
 },
 "nbformat": 4,
 "nbformat_minor": 5
}
