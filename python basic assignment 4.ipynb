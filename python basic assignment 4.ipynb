{
 "cells": [
  {
   "cell_type": "markdown",
   "id": "322ae455",
   "metadata": {},
   "source": [
    "# 1.\tWrite a Python Program to Find the Factorial of a Number?"
   ]
  },
  {
   "cell_type": "code",
   "execution_count": 1,
   "id": "ff9dfe22",
   "metadata": {},
   "outputs": [
    {
     "name": "stdout",
     "output_type": "stream",
     "text": [
      "Please enter the number to find factorial number---6\n",
      "factorial of 6 is 720\n"
     ]
    }
   ],
   "source": [
    "a=int(input(\"Please enter the number to find factorial number---\"))\n",
    "\n",
    "fact=1\n",
    "\n",
    "for i in range(1,a+1):\n",
    "    \n",
    "    fact=i*fact\n",
    "    \n",
    "print(f\"factorial of {a} is {fact}\")"
   ]
  },
  {
   "cell_type": "markdown",
   "id": "bb20f1cc",
   "metadata": {},
   "source": [
    "# 2.\tWrite a Python Program to Display the multiplication Table?"
   ]
  },
  {
   "cell_type": "code",
   "execution_count": 2,
   "id": "92029304",
   "metadata": {},
   "outputs": [],
   "source": [
    "def multi(num):\n",
    "    \n",
    "    a=10\n",
    "    \n",
    "    for i in range(1,a+1):\n",
    "        \n",
    "        print(num*i,\"\\n\")"
   ]
  },
  {
   "cell_type": "code",
   "execution_count": 3,
   "id": "f29655f0",
   "metadata": {},
   "outputs": [
    {
     "name": "stdout",
     "output_type": "stream",
     "text": [
      "12 \n",
      "\n",
      "24 \n",
      "\n",
      "36 \n",
      "\n",
      "48 \n",
      "\n",
      "60 \n",
      "\n",
      "72 \n",
      "\n",
      "84 \n",
      "\n",
      "96 \n",
      "\n",
      "108 \n",
      "\n",
      "120 \n",
      "\n"
     ]
    }
   ],
   "source": [
    "multi(12)"
   ]
  },
  {
   "cell_type": "markdown",
   "id": "1ebbafd9",
   "metadata": {},
   "source": [
    "# 3.\tWrite a Python Program to Print the Fibonacci sequence?"
   ]
  },
  {
   "cell_type": "code",
   "execution_count": 4,
   "id": "f0ed1f57",
   "metadata": {},
   "outputs": [
    {
     "name": "stdout",
     "output_type": "stream",
     "text": [
      "please enter a number8\n",
      "Fibonacci Series: 0 1 1 2 3 5 8 13 "
     ]
    }
   ],
   "source": [
    "def fibonacciSeries(i):\n",
    "    if i <= 1:\n",
    "        return i\n",
    "    else:\n",
    "        return (fibonacciSeries(i - 1) + fibonacciSeries(i - 2))\n",
    "\n",
    "num=int(input(\"please enter a number\"))\n",
    "if num <=0:\n",
    "    print(\"Please enter a Positive Number\")\n",
    "else:\n",
    "    print(\"Fibonacci Series:\", end=\" \")\n",
    "for i in range(num):\n",
    "    print(fibonacciSeries(i), end=\" \")"
   ]
  },
  {
   "cell_type": "markdown",
   "id": "0779b8f2",
   "metadata": {},
   "source": [
    "# 4. Write a Python Program to Check Armstrong Number?"
   ]
  },
  {
   "cell_type": "code",
   "execution_count": 9,
   "id": "78791e98",
   "metadata": {},
   "outputs": [
    {
     "name": "stdout",
     "output_type": "stream",
     "text": [
      "Enter a number: 407\n",
      "407 is an Armstrong number\n"
     ]
    }
   ],
   "source": [
    "num = int(input(\"Enter a number: \"))\n",
    "\n",
    "\n",
    "sum = 0\n",
    "\n",
    "\n",
    "temp = num\n",
    "while temp > 0:\n",
    "    digit = temp % 10\n",
    "    sum += digit ** 3\n",
    "    temp //= 10\n",
    "\n",
    "# display the result\n",
    "if num == sum:\n",
    "    print(num,\"is an Armstrong number\")\n",
    "else:\n",
    "    print(num,\"is not an Armstrong number\")"
   ]
  },
  {
   "cell_type": "markdown",
   "id": "dd06eeac",
   "metadata": {},
   "source": [
    "# 5.\tWrite a Python Program to Find Armstrong Number in an Interval?"
   ]
  },
  {
   "cell_type": "code",
   "execution_count": 13,
   "id": "2e3e1a57",
   "metadata": {},
   "outputs": [
    {
     "name": "stdout",
     "output_type": "stream",
     "text": [
      "Enter lower range: 350\n",
      "Enter upper range: 450\n",
      "370\n",
      "371\n",
      "407\n"
     ]
    }
   ],
   "source": [
    "lower = int(input(\"Enter lower range: \"))  \n",
    "upper = int(input(\"Enter upper range: \"))  \n",
    "  \n",
    "for num in range(lower,upper + 1):  \n",
    "    sum = 0  \n",
    "    temp = num  \n",
    "    while temp > 0:  \n",
    "        digit = temp % 10  \n",
    "        sum += digit ** 3  \n",
    "        temp //= 10  \n",
    "        if num == sum:  \n",
    "             print(num)"
   ]
  },
  {
   "cell_type": "markdown",
   "id": "ab3da9f1",
   "metadata": {},
   "source": [
    "# 6.\tWrite a Python Program to Find the Sum of Natural Numbers?"
   ]
  },
  {
   "cell_type": "code",
   "execution_count": 11,
   "id": "9651ac75",
   "metadata": {},
   "outputs": [
    {
     "name": "stdout",
     "output_type": "stream",
     "text": [
      "Please enter the number 4\n",
      "sum is  10\n"
     ]
    }
   ],
   "source": [
    "num=int(input(\"Please enter the number \"))\n",
    "sumofnaturalnumber=0\n",
    "for i in range(num+1):\n",
    "    \n",
    "    sumofnaturalnumber+=i\n",
    "    \n",
    "print(\"sum is \",sumofnaturalnumber)"
   ]
  },
  {
   "cell_type": "code",
   "execution_count": null,
   "id": "3e178054",
   "metadata": {},
   "outputs": [],
   "source": []
  }
 ],
 "metadata": {
  "kernelspec": {
   "display_name": "Python 3 (ipykernel)",
   "language": "python",
   "name": "python3"
  },
  "language_info": {
   "codemirror_mode": {
    "name": "ipython",
    "version": 3
   },
   "file_extension": ".py",
   "mimetype": "text/x-python",
   "name": "python",
   "nbconvert_exporter": "python",
   "pygments_lexer": "ipython3",
   "version": "3.9.12"
  }
 },
 "nbformat": 4,
 "nbformat_minor": 5
}
