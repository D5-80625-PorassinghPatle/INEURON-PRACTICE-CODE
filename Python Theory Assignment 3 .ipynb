{
 "cells": [
  {
   "cell_type": "markdown",
   "id": "364b1beb",
   "metadata": {},
   "source": [
    "1. Why are functions advantageous to have in your programs?\n",
    "2. When does the code in a function run: when it&#39;s specified or when it&#39;s called?\n",
    "3. What statement creates a function?\n",
    "4. What is the difference between a function and a function call?\n",
    "5. How many global scopes are there in a Python program? How many local scopes?\n",
    "6. What happens to variables in a local scope when the function call returns?\n",
    "7. What is the concept of a return value? Is it possible to have a return value in an expression?\n",
    "8. If a function does not have a return statement, what is the return value of a call to that function?\n",
    "9. How do you make a function variable refer to the global variable?\n",
    "10. What is the data type of None?\n",
    "11. What does the sentence import areallyourpetsnamederic do?\n",
    "12. If you had a bacon() feature in a spam module, what would you call it after importing spam?\n",
    "13. What can you do to save a programme from crashing if it encounters an error?\n",
    "14. What is the purpose of the try clause? What is the purpose of the except clause?"
   ]
  },
  {
   "cell_type": "markdown",
   "id": "64d77616",
   "metadata": {},
   "source": [
    "Ans--1-- This reduces the typing of any particular code again and again . ans also this is considered to be standard practice in industry."
   ]
  },
  {
   "cell_type": "markdown",
   "id": "03c17ceb",
   "metadata": {},
   "source": [
    "Ans--2--The code in function runs when it is CALLED."
   ]
  },
  {
   "cell_type": "markdown",
   "id": "4b79bd9d",
   "metadata": {},
   "source": [
    "Ans--3--The def() statement creates the function"
   ]
  },
  {
   "cell_type": "markdown",
   "id": "a47e9c9e",
   "metadata": {},
   "source": [
    "Ans--4--The Function is the Block where the code is writtten for particular opration . while the function call is the processwhere the code is excetuted by calling function in name written."
   ]
  },
  {
   "cell_type": "markdown",
   "id": "c9de0ece",
   "metadata": {},
   "source": [
    "Ans--5--There is single gobal scope in python.where as the local scope changes form function to function as per user has defined."
   ]
  },
  {
   "cell_type": "markdown",
   "id": "736c0e7b",
   "metadata": {},
   "source": [
    "Ans--6-- once the code in function is exceuted the Local varibale is vanished . It does not hold the value outside the that particular function"
   ]
  },
  {
   "cell_type": "markdown",
   "id": "d99d67fe",
   "metadata": {},
   "source": [
    "Ans--7-- The return value is used to give output in function to preserve the data type of the code \n",
    "if in genral print is used it will give data type as none \n",
    "and return value can be used in an expression . but we can not use \"return\" in an expression."
   ]
  },
  {
   "cell_type": "markdown",
   "id": "7c9595d6",
   "metadata": {},
   "source": [
    "Ans--8-- Return value for a call to such functioin is \"None\""
   ]
  },
  {
   "cell_type": "markdown",
   "id": "ba5c1e09",
   "metadata": {},
   "source": [
    "Ans--9--We can make a function variable refer to the global variable by using GLOBAL as keyword for required vairable."
   ]
  },
  {
   "cell_type": "markdown",
   "id": "3ba9f2c3",
   "metadata": {},
   "source": [
    "Ans--10--Nonetype is data type for None."
   ]
  },
  {
   "cell_type": "markdown",
   "id": "bfaa03ae",
   "metadata": {},
   "source": [
    "Ans--11-- As it is not pre defined Module it gives error."
   ]
  },
  {
   "cell_type": "markdown",
   "id": "5833be8a",
   "metadata": {},
   "source": [
    "Ans--12--It can be called by spam.bacon()"
   ]
  },
  {
   "cell_type": "markdown",
   "id": "19feb434",
   "metadata": {},
   "source": [
    "Ans--13-- We can use try and excet statements."
   ]
  },
  {
   "cell_type": "markdown",
   "id": "d5a6940e",
   "metadata": {},
   "source": [
    "Ans--14--Purpose of try clause is to test the block ofcoe for errors \n",
    "except block help in handeling error and avoid the IDE from crashing\n"
   ]
  },
  {
   "cell_type": "code",
   "execution_count": null,
   "id": "8e98b5aa",
   "metadata": {},
   "outputs": [],
   "source": []
  }
 ],
 "metadata": {
  "kernelspec": {
   "display_name": "Python 3 (ipykernel)",
   "language": "python",
   "name": "python3"
  },
  "language_info": {
   "codemirror_mode": {
    "name": "ipython",
    "version": 3
   },
   "file_extension": ".py",
   "mimetype": "text/x-python",
   "name": "python",
   "nbconvert_exporter": "python",
   "pygments_lexer": "ipython3",
   "version": "3.9.12"
  }
 },
 "nbformat": 4,
 "nbformat_minor": 5
}
