{
 "cells": [
  {
   "cell_type": "code",
   "execution_count": null,
   "id": "d26a28ec",
   "metadata": {},
   "outputs": [],
   "source": [
    "## 1.Write a Python program to print &quot;Hello Python&quot;?"
   ]
  },
  {
   "cell_type": "code",
   "execution_count": null,
   "id": "920a8229",
   "metadata": {},
   "outputs": [],
   "source": [
    "a = \"hello python\"\n",
    "print(a)"
   ]
  },
  {
   "cell_type": "code",
   "execution_count": null,
   "id": "d18e077f",
   "metadata": {},
   "outputs": [],
   "source": [
    "## 2 .Write a Python program to do arithmetical operations addition and division.?"
   ]
  },
  {
   "cell_type": "code",
   "execution_count": null,
   "id": "1565a46e",
   "metadata": {},
   "outputs": [],
   "source": [
    "b = int(input(\"enter the number \"))\n",
    "c = int(input(\"enter 2nd number \"))\n",
    "d = c+b\n",
    "e = c-b\n",
    "f = c*b\n",
    "g= c/b\n",
    "print (\"addition = \",d)\n",
    "print (\"subtraction = \",e)\n",
    "print (\"multi = \",f)\n",
    "print (\"div = \",g)"
   ]
  },
  {
   "cell_type": "code",
   "execution_count": null,
   "id": "8e608a20",
   "metadata": {},
   "outputs": [],
   "source": [
    "## 3. Write a Python program to find the area of a triangle?"
   ]
  },
  {
   "cell_type": "code",
   "execution_count": null,
   "id": "388d8e88",
   "metadata": {},
   "outputs": [],
   "source": [
    "base = int(input(\"enter base of triangle \"))\n",
    "height = int(input(\"enter height of triangle \"))\n",
    "area = 0.5*(base)*(height)\n",
    "print(\"area of triangle is \",area)"
   ]
  },
  {
   "cell_type": "code",
   "execution_count": null,
   "id": "ff76bc64",
   "metadata": {},
   "outputs": [],
   "source": [
    "## 4. Write a Python program to swap two variables?"
   ]
  },
  {
   "cell_type": "code",
   "execution_count": 5,
   "id": "55f6e0f5",
   "metadata": {},
   "outputs": [
    {
     "name": "stdout",
     "output_type": "stream",
     "text": [
      "enter value of m 45\n",
      "enter vlue of n 65\n",
      "swaped value of m is  65 swaped value of n is  45\n"
     ]
    }
   ],
   "source": [
    "m = int(input(\"enter value of m \"))\n",
    "n = int(input(\"enter vlue of n \"))\n",
    "x = m\n",
    "m=n\n",
    "n=x\n",
    "print(\"swaped value of m is \",m ,\"swaped value of n is \" ,n )"
   ]
  },
  {
   "cell_type": "code",
   "execution_count": 6,
   "id": "7181f245",
   "metadata": {},
   "outputs": [],
   "source": [
    "## 5. Write a Python program to generate a random number?"
   ]
  },
  {
   "cell_type": "code",
   "execution_count": 27,
   "id": "69ef6a6c",
   "metadata": {},
   "outputs": [
    {
     "name": "stdout",
     "output_type": "stream",
     "text": [
      "6\n"
     ]
    }
   ],
   "source": [
    "p = [12,90,45,5446676,7687,664,56,564,24,656,65,64,36,6,7745,4,5,4,6465,767,676]\n",
    "import random\n",
    "print(random.choice(p))\n",
    "        "
   ]
  },
  {
   "cell_type": "code",
   "execution_count": null,
   "id": "a804c8bd",
   "metadata": {},
   "outputs": [],
   "source": [
    "##or"
   ]
  },
  {
   "cell_type": "code",
   "execution_count": 46,
   "id": "86613012",
   "metadata": {},
   "outputs": [
    {
     "name": "stdout",
     "output_type": "stream",
     "text": [
      "443\n"
     ]
    }
   ],
   "source": [
    "h = random.randint(0,1000)\n",
    "print(h)"
   ]
  },
  {
   "cell_type": "code",
   "execution_count": null,
   "id": "33cde6bf",
   "metadata": {},
   "outputs": [],
   "source": []
  },
  {
   "cell_type": "code",
   "execution_count": null,
   "id": "7fab82c6",
   "metadata": {},
   "outputs": [],
   "source": []
  }
 ],
 "metadata": {
  "kernelspec": {
   "display_name": "Python 3 (ipykernel)",
   "language": "python",
   "name": "python3"
  },
  "language_info": {
   "codemirror_mode": {
    "name": "ipython",
    "version": 3
   },
   "file_extension": ".py",
   "mimetype": "text/x-python",
   "name": "python",
   "nbconvert_exporter": "python",
   "pygments_lexer": "ipython3",
   "version": "3.9.12"
  }
 },
 "nbformat": 4,
 "nbformat_minor": 5
}
