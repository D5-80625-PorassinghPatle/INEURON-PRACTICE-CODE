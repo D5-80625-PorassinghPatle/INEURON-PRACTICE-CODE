{
 "cells": [
  {
   "cell_type": "markdown",
   "id": "45872567",
   "metadata": {},
   "source": [
    " 1. Write a Python program to convert kilometers to miles?\n",
    "2. Write a Python program to convert Celsius to Fahrenheit?\n",
    "3. Write a Python program to display calendar?\n",
    "4. Write a Python program to solve quadratic equation?\n",
    "5. Write a Python program to swap two variables without temp variable? "
   ]
  },
  {
   "cell_type": "code",
   "execution_count": 5,
   "id": "d1fa6a9c",
   "metadata": {},
   "outputs": [
    {
     "name": "stdout",
     "output_type": "stream",
     "text": [
      "enter value in KM 56\n",
      "value in miles is  34.72\n"
     ]
    }
   ],
   "source": [
    "##ANS __ 1\n",
    "k= float(input(\"enter value in KM \"))\n",
    "m = 0.62 * k\n",
    "print(\"value in miles is \",m)"
   ]
  },
  {
   "cell_type": "code",
   "execution_count": 6,
   "id": "838cd112",
   "metadata": {},
   "outputs": [
    {
     "name": "stdout",
     "output_type": "stream",
     "text": [
      "enter values in celicus 100\n",
      "its equivalnet to  212.0 Fahrenheit\n"
     ]
    }
   ],
   "source": [
    "##ANS__2\n",
    "c= float(input(\"enter values in celicus \"))\n",
    "f = (c * 9/5) + 32\n",
    "print(\"its equivalnet to \", f, \"Fahrenheit\")"
   ]
  },
  {
   "cell_type": "code",
   "execution_count": 7,
   "id": "53c5618b",
   "metadata": {},
   "outputs": [
    {
     "name": "stdout",
     "output_type": "stream",
     "text": [
      "                                  2022\n",
      "\n",
      "      January                   February                   March\n",
      "Mo Tu We Th Fr Sa Su      Mo Tu We Th Fr Sa Su      Mo Tu We Th Fr Sa Su\n",
      "                1  2          1  2  3  4  5  6          1  2  3  4  5  6\n",
      " 3  4  5  6  7  8  9       7  8  9 10 11 12 13       7  8  9 10 11 12 13\n",
      "10 11 12 13 14 15 16      14 15 16 17 18 19 20      14 15 16 17 18 19 20\n",
      "17 18 19 20 21 22 23      21 22 23 24 25 26 27      21 22 23 24 25 26 27\n",
      "24 25 26 27 28 29 30      28                        28 29 30 31\n",
      "31\n",
      "\n",
      "       April                      May                       June\n",
      "Mo Tu We Th Fr Sa Su      Mo Tu We Th Fr Sa Su      Mo Tu We Th Fr Sa Su\n",
      "             1  2  3                         1             1  2  3  4  5\n",
      " 4  5  6  7  8  9 10       2  3  4  5  6  7  8       6  7  8  9 10 11 12\n",
      "11 12 13 14 15 16 17       9 10 11 12 13 14 15      13 14 15 16 17 18 19\n",
      "18 19 20 21 22 23 24      16 17 18 19 20 21 22      20 21 22 23 24 25 26\n",
      "25 26 27 28 29 30         23 24 25 26 27 28 29      27 28 29 30\n",
      "                          30 31\n",
      "\n",
      "        July                     August                  September\n",
      "Mo Tu We Th Fr Sa Su      Mo Tu We Th Fr Sa Su      Mo Tu We Th Fr Sa Su\n",
      "             1  2  3       1  2  3  4  5  6  7                1  2  3  4\n",
      " 4  5  6  7  8  9 10       8  9 10 11 12 13 14       5  6  7  8  9 10 11\n",
      "11 12 13 14 15 16 17      15 16 17 18 19 20 21      12 13 14 15 16 17 18\n",
      "18 19 20 21 22 23 24      22 23 24 25 26 27 28      19 20 21 22 23 24 25\n",
      "25 26 27 28 29 30 31      29 30 31                  26 27 28 29 30\n",
      "\n",
      "      October                   November                  December\n",
      "Mo Tu We Th Fr Sa Su      Mo Tu We Th Fr Sa Su      Mo Tu We Th Fr Sa Su\n",
      "                1  2          1  2  3  4  5  6                1  2  3  4\n",
      " 3  4  5  6  7  8  9       7  8  9 10 11 12 13       5  6  7  8  9 10 11\n",
      "10 11 12 13 14 15 16      14 15 16 17 18 19 20      12 13 14 15 16 17 18\n",
      "17 18 19 20 21 22 23      21 22 23 24 25 26 27      19 20 21 22 23 24 25\n",
      "24 25 26 27 28 29 30      28 29 30                  26 27 28 29 30 31\n",
      "31\n",
      "\n"
     ]
    }
   ],
   "source": [
    "##ANS__3\n",
    "import calendar\n",
    "\n",
    "yy = 2022\n",
    "\n",
    "print(calendar.calendar(yy))"
   ]
  },
  {
   "cell_type": "code",
   "execution_count": 9,
   "id": "81cd5d09",
   "metadata": {},
   "outputs": [
    {
     "name": "stdout",
     "output_type": "stream",
     "text": [
      "enter coefficent of x 1\n",
      "enter coefficent of y-9\n",
      "enter coefficent of c18\n",
      "roots are real and different\n",
      "6.0\n",
      "3.0\n"
     ]
    }
   ],
   "source": [
    "##ANS__4\n",
    "import math\n",
    "q = int(input (\"enter coefficent of x \"))\n",
    "w = int(input(\"enter coefficent of y\"))\n",
    "e = int(input(\"enter coefficent of c\"))\n",
    "z = (w*w - 4* q * e)\n",
    "squarevalue = math.sqrt(abs(z))\n",
    "\n",
    "if z > 0 :\n",
    "    print(\"roots are real and different\")\n",
    "    print((-w + squarevalue) / 2 * q )\n",
    "    print((-w - squarevalue) / 2 * q )\n",
    "elif z == 0 :\n",
    "    print(\"roots are same\")\n",
    "    print(-w / 2 * q)\n",
    "    print(-w / 2 * q)\n",
    "else :\n",
    "    print (\"complex root\")\n",
    "    print (-w / 2 * q ,\"+i\", squarevalue)\n",
    "    print (-w / 2 * q , \"-i\", squarevalue)\n",
    "    "
   ]
  },
  {
   "cell_type": "code",
   "execution_count": 17,
   "id": "a4b73cbc",
   "metadata": {},
   "outputs": [
    {
     "name": "stdout",
     "output_type": "stream",
     "text": [
      "Enter variablle for g   5\n",
      "Enter variable for h  14\n",
      "NOW variable are swaped for g to  14.0\n",
      "now varibale are swaped for h to 5.0\n"
     ]
    }
   ],
   "source": [
    "##Ans__5\n",
    "g = float(input (\"Enter variablle for g   \"))\n",
    "h = float(input (\"Enter variable for h  \"))\n",
    "g = g*h\n",
    "h = g/h\n",
    "g = g/h\n",
    "print (\"NOW variable are swaped for g to \" , g)\n",
    "print (\"now varibale are swaped for h to\" , h)"
   ]
  },
  {
   "cell_type": "code",
   "execution_count": null,
   "id": "030ea46f",
   "metadata": {},
   "outputs": [],
   "source": []
  }
 ],
 "metadata": {
  "kernelspec": {
   "display_name": "Python 3 (ipykernel)",
   "language": "python",
   "name": "python3"
  },
  "language_info": {
   "codemirror_mode": {
    "name": "ipython",
    "version": 3
   },
   "file_extension": ".py",
   "mimetype": "text/x-python",
   "name": "python",
   "nbconvert_exporter": "python",
   "pygments_lexer": "ipython3",
   "version": "3.9.12"
  }
 },
 "nbformat": 4,
 "nbformat_minor": 5
}
